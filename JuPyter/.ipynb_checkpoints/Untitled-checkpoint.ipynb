{
 "cells": [
  {
   "cell_type": "code",
   "execution_count": 130,
   "metadata": {},
   "outputs": [],
   "source": [
    "import numpy as np\n",
    "import matplotlib.pyplot as plt"
   ]
  },
  {
   "cell_type": "code",
   "execution_count": 131,
   "metadata": {},
   "outputs": [],
   "source": [
    "weigths = np.random.rand(2, 1)"
   ]
  },
  {
   "cell_type": "code",
   "execution_count": 132,
   "metadata": {},
   "outputs": [],
   "source": [
    "def Perzeptron(x, w):# [2, 1] @ [2, 1]\n",
    "    out = x.T @ w# [1, 2] @ [2, 1]-geht!\n",
    "    return out\n",
    "#forwardpass"
   ]
  },
  {
   "cell_type": "code",
   "execution_count": 133,
   "metadata": {},
   "outputs": [],
   "source": [
    "#mittleren quadratischen fehler:\n",
    "#0.5(Target - Output)^2"
   ]
  },
  {
   "cell_type": "code",
   "execution_count": 134,
   "metadata": {},
   "outputs": [],
   "source": [
    "def calc_loss(out, y):\n",
    "    return 0.5*(y-out)**2"
   ]
  },
  {
   "cell_type": "code",
   "execution_count": 135,
   "metadata": {},
   "outputs": [],
   "source": [
    "#lokales minimum:\n",
    "#y = w*x\n",
    "#L = 1/2(Y-y)**2\n",
    "#L = 1/2(Y - (w*x))**2\n",
    "#dL/dy\n",
    "#dy/dw\n",
    "#dL/dw = (dL/dy)*(dy/dw)\n",
    "#dL/dy = 1/2(Y^2 - 2Yy + y^2)'\n",
    "#      = 1/2(2y - 2Y)\n",
    "#      = y-Y\n",
    "#dy/dw = (w*x)'\n",
    "#      = x\n",
    "#dL/dw = (y-Y)*x\n",
    "\n",
    "def backward(x, y, Y):#backwardpass!\n",
    "    return (y-Y)*x"
   ]
  },
  {
   "cell_type": "code",
   "execution_count": 136,
   "metadata": {},
   "outputs": [],
   "source": [
    "def step(weigths, grd, lr):\n",
    "    return weigths - lr*grd"
   ]
  },
  {
   "cell_type": "code",
   "execution_count": 137,
   "metadata": {},
   "outputs": [],
   "source": [
    "x = np.array([[[1], [1]], [[1], [0]], [[0], [1]], [[0], [0]]])\n",
    "y = np.array([[1], [0], [0], [0]])"
   ]
  },
  {
   "cell_type": "code",
   "execution_count": 138,
   "metadata": {},
   "outputs": [],
   "source": [
    "losses = []\n",
    "loss = 0\n",
    "for epoch in range(10000):\n",
    "    for i in range(len(x)):\n",
    "        out = Perzeptron(x[i], weigths)\n",
    "        loss += calc_loss(out, y[i])\n",
    "        grd = backward(x[i], out, y[i])\n",
    "        weigths = step(weigths, grd, 1e-2)\n",
    "    losses.append(loss.squeeze()/len(x))\n",
    "    loss = 0"
   ]
  },
  {
   "cell_type": "code",
   "execution_count": 139,
   "metadata": {},
   "outputs": [
    {
     "data": {
      "image/png": "[encoded data removed]",
      "text/plain": [
       "<Figure size 432x288 with 1 Axes>"
      ]
     },
     "metadata": {
      "needs_background": "light"
     },
     "output_type": "display_data"
    }
   ],
   "source": [
    "plt.plot(np.arange(len(losses)), losses)\n",
    "plt.xlabel(\"epochs\")\n",
    "plt.ylabel(\"loss\")\n",
    "plt.show()"
   ]
  },
  {
   "cell_type": "code",
   "execution_count": 148,
   "metadata": {},
   "outputs": [
    {
     "data": {
      "text/plain": [
       "array([[0.66442953]])"
      ]
     },
     "execution_count": 148,
     "metadata": {},
     "output_type": "execute_result"
    }
   ],
   "source": [
    "Perzeptron(weigths, np.array([[1], [1]]))"
   ]
  },
  {
   "cell_type": "code",
   "execution_count": null,
   "metadata": {},
   "outputs": [],
   "source": []
  },
  {
   "cell_type": "code",
   "execution_count": null,
   "metadata": {},
   "outputs": [],
   "source": []
  }
 ],
 "metadata": {
  "kernelspec": {
   "display_name": "Python 3",
   "language": "python",
   "name": "python3"
  },
  "language_info": {
   "codemirror_mode": {
    "name": "ipython",
    "version": 3
   },
   "file_extension": ".py",
   "mimetype": "text/x-python",
   "name": "python",
   "nbconvert_exporter": "python",
   "pygments_lexer": "ipython3",
   "version": "3.7.4"
  }
 },
 "nbformat": 4,
 "nbformat_minor": 2
}
