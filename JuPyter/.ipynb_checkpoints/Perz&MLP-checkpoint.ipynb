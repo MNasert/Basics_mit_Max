{
 "cells": [
  {
   "cell_type": "code",
   "execution_count": 1,
   "metadata": {},
   "outputs": [],
   "source": [
    "import numpy as np\n",
    "import matplotlib.pyplot as plt"
   ]
  },
  {
   "cell_type": "code",
   "execution_count": 2,
   "metadata": {},
   "outputs": [
    {
     "name": "stdout",
     "output_type": "stream",
     "text": [
      "(2, 2)\n"
     ]
    }
   ],
   "source": [
    "wm = np.random.rand(2, 2)\n",
    "print(wm.shape)"
   ]
  },
  {
   "cell_type": "code",
   "execution_count": 3,
   "metadata": {},
   "outputs": [],
   "source": [
    "def Perzeptron(x, w):\n",
    "    out= x.T @ w#2,1->1,2 x 2,2 -> 1,2\n",
    "    return out"
   ]
  },
  {
   "cell_type": "code",
   "execution_count": 4,
   "metadata": {},
   "outputs": [],
   "source": [
    "#\n",
    "#Jetzt haben wir schon mal den forwardpass für ein Perzeptron\n",
    "#"
   ]
  },
  {
   "cell_type": "code",
   "execution_count": 5,
   "metadata": {},
   "outputs": [],
   "source": [
    "#wir verwenden den mittleren quadratischen fehler als Loss"
   ]
  },
  {
   "cell_type": "code",
   "execution_count": 6,
   "metadata": {},
   "outputs": [],
   "source": [
    "def calc_loss(x,y):\n",
    "    return .5*(y-x)**2\n",
    "#damit haben wir dann schon mal den Loss"
   ]
  },
  {
   "cell_type": "code",
   "execution_count": 7,
   "metadata": {},
   "outputs": [],
   "source": [
    " #wir benutzen nach newton das gradientenverfahren um das lokale minimum zu erreichen\n",
    "        #wir haben als funktion:\n",
    "        #y = w * x\n",
    "        #der fehler ist L = 1/2(Y-y)^2\n",
    "        #also ist L = (Y-(w * x))^2\n",
    "        #wir müssen also partiell nach w ableiten\n",
    "        #fangen wir mal an:\n",
    "        #wir wollen dL/dw = dL/dy * dy/dw: alsoooo:\n",
    "        #dL/dy = 1/2(Y^2 - 2Yy +y^2)'\n",
    "        #      = 1/2(0 - 2Y +2y)\n",
    "        #      = y-Y\n",
    "        #dy/dw = x\n",
    "        #damit ist dL/dw = x*(y-Y)\n",
    "def backward(x, y, Y):\n",
    "    return x * (y- Y)\n",
    "\n",
    "#backward ist auch erledigt!"
   ]
  },
  {
   "cell_type": "code",
   "execution_count": 8,
   "metadata": {},
   "outputs": [],
   "source": [
    "#und jetzt müssen wir noch die parameter updaten- dafür wollen wir nicht zum MAXIMUM sondern zum MINIMUM\n",
    "#das erreichen wir indem wir den gradienten von unseren gewichten abziehen\n",
    "def step(wm, grd, lr):\n",
    "    return wm - lr*grd"
   ]
  },
  {
   "cell_type": "code",
   "execution_count": 9,
   "metadata": {},
   "outputs": [],
   "source": [
    "x = np.array([[[1], [1]],[[1], [0]],[[0], [1]], [[0],[0]]])#Dummy data\n",
    "y = np.array([[0], [1], [1], [0]])#dummy target"
   ]
  },
  {
   "cell_type": "code",
   "execution_count": null,
   "metadata": {},
   "outputs": [],
   "source": []
  },
  {
   "cell_type": "code",
   "execution_count": null,
   "metadata": {},
   "outputs": [],
   "source": []
  },
  {
   "cell_type": "code",
   "execution_count": 10,
   "metadata": {},
   "outputs": [],
   "source": [
    "wm2 = np.random.rand(2, 1)\n"
   ]
  },
  {
   "cell_type": "code",
   "execution_count": 11,
   "metadata": {},
   "outputs": [],
   "source": [
    "losses= []\n",
    "ls = 0\n",
    "for epoch in range(100):    \n",
    "    for i in range(len(x)):\n",
    "        out1 = Perzeptron(x[i], wm)\n",
    "        out2 = Perzeptron(out1.T, wm2)\n",
    "        loss = .5*(y[i]-out2)**2#was ist unser loss? (hier erstmal irrelevant- wird in späteren projekten wichtig\n",
    "        grd = backward(x[i], out2, y[i])#backward\n",
    "        wm2 = step(wm2, grd, 1e-2)#update der parameter\n",
    "        grd2 = (y[i]-out2)*(wm2)*x[i]        \n",
    "        wm = step(wm, grd2, 1e-2)\n",
    "        ls += loss# wir rechnen erstmal den ganzen loss zusammen\n",
    "    losses.append(ls.squeeze()/len(x))#dann gucken wir wie groß der mittlere fehler auf den daten ist und merken uns das\n",
    "    ls = 0# dann mal den laufparameter auf null setzen"
   ]
  },
  {
   "cell_type": "code",
   "execution_count": 14,
   "metadata": {},
   "outputs": [],
   "source": [
    "#L = 1/2(Y-y)^2\n",
    "#y = w1*z\n",
    "#z = w2*x\n",
    "#dL/dw2 = dL/dy*dy/z*dz/dw2\n",
    "#dL/dy = Y-y\n",
    "#dy/dz = w1\n",
    "#dz/dw2 = x\n",
    "#dL/dw2 = (Y-y)(w1)(x)"
   ]
  },
  {
   "cell_type": "code",
   "execution_count": 13,
   "metadata": {},
   "outputs": [
    {
     "data": {
      "image/png": "[encoded data removed]",
      "text/plain": [
       "<Figure size 432x288 with 1 Axes>"
      ]
     },
     "metadata": {
      "needs_background": "light"
     },
     "output_type": "display_data"
    }
   ],
   "source": [
    "plt.plot(np.arange(len(losses)), losses)#wir plotten alle losses\n",
    "plt.xlabel(\"epochs\")#xlabel\n",
    "plt.ylabel(\"loss\")#ylabel\n",
    "plt.show()#anzeigen"
   ]
  },
  {
   "cell_type": "code",
   "execution_count": null,
   "metadata": {},
   "outputs": [],
   "source": []
  }
 ],
 "metadata": {
  "kernelspec": {
   "display_name": "Python 3",
   "language": "python",
   "name": "python3"
  },
  "language_info": {
   "codemirror_mode": {
    "name": "ipython",
    "version": 3
   },
   "file_extension": ".py",
   "mimetype": "text/x-python",
   "name": "python",
   "nbconvert_exporter": "python",
   "pygments_lexer": "ipython3",
   "version": "3.7.4"
  }
 },
 "nbformat": 4,
 "nbformat_minor": 2
}
